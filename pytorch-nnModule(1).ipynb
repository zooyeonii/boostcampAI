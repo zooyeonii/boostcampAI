{
 "cells": [
  {
   "cell_type": "code",
   "execution_count": 1,
   "metadata": {},
   "outputs": [],
   "source": [
    "import torch\n",
    "from torch import nn"
   ]
  },
  {
   "cell_type": "markdown",
   "metadata": {},
   "source": [
    "### nn.Sequential 은 순서대로 실행하고, nn.ModuleList 는 각 모듈을 list로 인덱싱한다. "
   ]
  },
  {
   "cell_type": "code",
   "execution_count": 2,
   "metadata": {},
   "outputs": [],
   "source": [
    "class Add(nn.Module):\n",
    "    def __init__(self, value):\n",
    "        super().__init__()\n",
    "        self.value = value\n",
    "\n",
    "    def forward(self, x):\n",
    "        return x + self.value"
   ]
  },
  {
   "cell_type": "code",
   "execution_count": 3,
   "metadata": {},
   "outputs": [],
   "source": [
    "calculator = nn.Sequential(\n",
    "    Add(3),\n",
    "    Add(2),\n",
    "    Add(5)\n",
    ")\n",
    "\n",
    "x = torch.tensor([1])\n",
    "output_seq = calculator(x)"
   ]
  },
  {
   "cell_type": "code",
   "execution_count": 4,
   "metadata": {},
   "outputs": [],
   "source": [
    "class Calculator(nn.Module):\n",
    "    def __init__(self):\n",
    "        super().__init__()\n",
    "        self.add_list = nn.ModuleList([Add(2), Add(3), Add(5)])\n",
    "\n",
    "    def forward(self, x):\n",
    "        x = self.add_list[1](x)\n",
    "        x = self.add_list[0](x)\n",
    "        x = self.add_list[2](x)\n",
    "        return x"
   ]
  },
  {
   "cell_type": "code",
   "execution_count": 5,
   "metadata": {},
   "outputs": [
    {
     "name": "stdout",
     "output_type": "stream",
     "text": [
      "tensor([11])\n"
     ]
    }
   ],
   "source": [
    "y = torch.tensor([1])\n",
    "\n",
    "calculator = Calculator()\n",
    "output_mlst = calculator(y)\n",
    "print(output_mlst)"
   ]
  },
  {
   "cell_type": "code",
   "execution_count": 6,
   "metadata": {},
   "outputs": [],
   "source": [
    "class Calculator(nn.Module):\n",
    "    def __init__(self):\n",
    "        super().__init__()\n",
    "        self.add_dict = nn.ModuleDict({'add2': Add(2),\n",
    "                                       'add3': Add(3),\n",
    "                                       'add5': Add(5)})\n",
    "\n",
    "    def forward(self, x):\n",
   
    "        x = self.add_dict['add3'](x)\n",
    "        x = self.add_dict['add2'](x)\n",
    "        x = self.add_dict['add5'](x)\n",
    "        return x"
   ]
  },
  {
   "cell_type": "code",
   "execution_count": 7,
   "metadata": {},
   "outputs": [
    {
     "data": {
      "text/plain": [
       "tensor([11])"
      ]
     },
     "execution_count": 7,
     "metadata": {},
     "output_type": "execute_result"
    }
   ],
   "source": [
    "x = torch.tensor([1])\n",
    "calculator = Calculator()\n",
    "output = calculator(x)\n",
    "output"
   ]
  },
  {
   "cell_type": "markdown",
   "metadata": {},
   "source": [
    "### Parameter; Autograd 기능을 사용하기 위해서 파라미터로 저장하고 토치에서 트랙킹한다. "
   ]
  },
  {
   "cell_type": "code",
   "execution_count": 8,
   "metadata": {},
   "outputs": [],
   "source": [
    "import torch\n",
    "from torch import nn\n",
    "from torch.nn.parameter import Parameter\n",
    "\n",
    "\n",
   
    "class Linear(nn.Module):\n",
    "    def __init__(self, in_features, out_features):\n",
    "        super().__init__()\n",
    "\n",
    "        self.W = torch.ones(3,2)\n",
    "        self.b = torch.ones(1)\n",
    "\n",
    "    def forward(self, x):\n",
    "        output = torch.addmm(self.b, x, self.W.T)\n",
    "\n",
    "        return output"
   ]
  },
  {
   "cell_type": "code",
   "execution_count": 9,
   "metadata": {},
   "outputs": [
    {
     "data": {
      "text/plain": [
       "tensor([[4., 4., 4.],\n",
       "        [8., 8., 8.]])"
      ]
     },
     "execution_count": 9,
     "metadata": {},
     "output_type": "execute_result"
    }
   ],
   "source": [
    "x = torch.Tensor([[1, 2],\n",
    "                  [3, 4]])\n",
    "\n",
    "linear = Linear(2, 3)\n",
    "output = linear(x)\n",
    "output"
   ]
  },
  {
   "cell_type": "markdown",
   "metadata": {},
   "source": [
    "### Tensor, Parameter, Buffer 의 차이점 \n",
    "##### Parameter로 지정하지 않아서 값이 업데이트 되지 않는다 해도 저장하고싶은 tensor가 있을 때 Buffer를 사용한다. \n",
    "##### Parameter는 아니어도, model의 상태를 나타내는 값이기 때문이다. "
   ]
  },
  {
   "cell_type": "code",
   "execution_count": null,
   "metadata": {},
   "outputs": [],
   "source": [
    "- \"Tensor\"\n",
    "    - ❌ gradient 계산\n",
    "    - ❌ 값 업데이트\n",
    "    - ❌ 모델 저장시 값 저장\n",
    "- \"Parameter\"\n",
    "    - ✅ gradient 계산\n",
    "    - ✅ 값 업데이트\n",
    "    - ✅ 모델 저장시 값 저장\n",
    "- \"Buffer\"\n",
    "    - ❌ gradient 계산\n",
    "    - ❌ 값 업데이트\n",
    "    - ✅ 모델 저장시 값 저장"
   ]
  },
  {
   "cell_type": "code",
   "execution_count": 10,
   "metadata": {},
   "outputs": [],
   "source": [
    "class Model(nn.Module):\n",
    "    def __init__(self):\n",
    "        super().__init__()\n",
    "\n",
    "        self.parameter = Parameter(torch.Tensor([7]))\n",
    "        self.tensor = torch.Tensor([7])\n",
    "\n",
    "        # orch.Tensor([7])를 buffer에 저장\n",
    "        self.register_buffer('buffer', torch.Tensor([7]))"
   ]
  },
  {
   "cell_type": "code",
   "execution_count": 13,
   "metadata": {},
   "outputs": [
    {
     "data": {
      "text/plain": [
       "OrderedDict([('parameter', tensor([7.])), ('buffer', tensor([7.]))])"
      ]
     },
     "execution_count": 13,
     "metadata": {},
     "output_type": "execute_result"
    }
   ],
   "source": [
    "# parameter와 함께 buffer도 저장됨.\n",
    "model = Model()\n",
    "model.state_dict()"
   ]
  },
  {
   "cell_type": "code",
   "execution_count": null,
   "metadata": {},
   "outputs": [],
   "source": []
  }
 ],
 "metadata": {
  "kernelspec": {
   "display_name": "Python 3",
   "language": "python",
   "name": "python3"
  },
  "language_info": {
   "codemirror_mode": {
    "name": "ipython",
    "version": 3
   },
   "file_extension": ".py",
   "mimetype": "text/x-python",
   "name": "python",
   "nbconvert_exporter": "python",
   "pygments_lexer": "ipython3",
   "version": "3.6.5"
  }
 },
 "nbformat": 4,
 "nbformat_minor": 2
}
